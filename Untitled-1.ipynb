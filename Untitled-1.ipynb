{
 "cells": [
  {
   "cell_type": "code",
   "execution_count": 9,
   "id": "aeafa064",
   "metadata": {},
   "outputs": [],
   "source": [
    "import yfinance as yf\n",
    "import pandas as pd\n",
    "import quantstats as qs\n",
    "\n"
   ]
  },
  {
   "cell_type": "code",
   "execution_count": 24,
   "id": "fb549482",
   "metadata": {},
   "outputs": [],
   "source": [
    "# Define your portfolio\n",
    "portfolio_tickers = [\"ASML\", \"AMZN\", \"GOOGL\", \"MSFT\"]\n",
    "benchmark_ticker = \"SPY\"  # S&P 500 as benchmark\n",
    "weights = [0.35, 0.25, 0.15, 0.25]  # Portfolio allocation must sum to 1\n",
    "start_date = \"2021-01-01\"\n",
    "end_date = \"2025-07-01\"\n"
   ]
  },
  {
   "cell_type": "code",
   "execution_count": 25,
   "id": "d43e6932",
   "metadata": {},
   "outputs": [
    {
     "name": "stderr",
     "output_type": "stream",
     "text": [
      "C:\\Users\\rodri\\AppData\\Local\\Temp\\ipykernel_18788\\210873595.py:2: FutureWarning: YF.download() has changed argument auto_adjust default to True\n",
      "  portfolio_data = yf.download(portfolio_tickers, start=start_date, end=end_date)\n",
      "[*********************100%***********************]  4 of 4 completed\n",
      "C:\\Users\\rodri\\AppData\\Local\\Temp\\ipykernel_18788\\210873595.py:3: FutureWarning: YF.download() has changed argument auto_adjust default to True\n",
      "  benchmark_data = yf.download(benchmark_ticker, start=start_date, end=end_date)\n",
      "[*********************100%***********************]  1 of 1 completed\n"
     ]
    },
    {
     "name": "stdout",
     "output_type": "stream",
     "text": [
      "Ticker          AMZN      ASML     GOOGL      MSFT\n",
      "Date                                              \n",
      "2021-01-05  0.010004  0.010720  0.008064  0.000965\n",
      "2021-01-06 -0.024897 -0.029959 -0.009868 -0.025929\n",
      "2021-01-07  0.007577  0.022867  0.029869  0.028457\n",
      "2021-01-08  0.006496  0.014578  0.013239  0.006093\n",
      "2021-01-11 -0.021519 -0.001553 -0.023106 -0.009698\n",
      "...              ...       ...       ...       ...\n",
      "2025-06-24  0.020626  0.043144  0.009565  0.008457\n",
      "2025-06-25 -0.003666  0.002311  0.023445  0.004407\n",
      "2025-06-26  0.024199 -0.021037  0.016757  0.010523\n",
      "2025-06-27  0.028464 -0.002681  0.028754 -0.003036\n",
      "2025-06-30 -0.017510  0.006835 -0.012883  0.002964\n",
      "\n",
      "[1126 rows x 4 columns]\n",
      "Date\n",
      "2021-01-05    0.007632\n",
      "2021-01-06   -0.024166\n",
      "2021-01-07    0.019963\n",
      "2021-01-08    0.009427\n",
      "2021-01-11   -0.013810\n",
      "                ...   \n",
      "2025-06-24    0.021554\n",
      "2025-06-25    0.003913\n",
      "2025-06-26    0.008355\n",
      "2025-06-27    0.012846\n",
      "2025-06-30   -0.005611\n",
      "Length: 1126, dtype: float64\n"
     ]
    }
   ],
   "source": [
    "# Download data\n",
    "portfolio_data = yf.download(portfolio_tickers, start=start_date, end=end_date)\n",
    "benchmark_data = yf.download(benchmark_ticker, start=start_date, end=end_date)\n",
    "\n",
    "# Calculate daily returns\n",
    "portfolio_returns = portfolio_data[\"Close\"].pct_change().dropna()\n",
    "benchmark_returns = benchmark_data[\"Close\"].pct_change().dropna()\n",
    "\n",
    "\n",
    "# Calculate weighted portfolio returns\n",
    "portfolio_returns_weighted = (portfolio_returns * weights).sum(axis=1)\n",
    "\n",
    "print(portfolio_returns)\n",
    "print(portfolio_returns_weighted)\n",
    "\n",
    "# Generate QuantStats report\n",
    "qs.extend_pandas()\n",
    "#qs.reports.full(portfolio_returns_weighted, benchmark=benchmark_returns,title=\"Portfolio Analysis Report\",)\n",
    "\n",
    "qs.reports.html(\n",
    "    returns=portfolio_returns_weighted,\n",
    "    benchmark=benchmark_returns,\n",
    "    output='portfolio_report.html',  # Local filename\n",
    "    title='Custom Portfolio Performance'\n",
    ")"
   ]
  }
 ],
 "metadata": {
  "kernelspec": {
   "display_name": "venv",
   "language": "python",
   "name": "python3"
  },
  "language_info": {
   "codemirror_mode": {
    "name": "ipython",
    "version": 3
   },
   "file_extension": ".py",
   "mimetype": "text/x-python",
   "name": "python",
   "nbconvert_exporter": "python",
   "pygments_lexer": "ipython3",
   "version": "3.9.4"
  }
 },
 "nbformat": 4,
 "nbformat_minor": 5
}
